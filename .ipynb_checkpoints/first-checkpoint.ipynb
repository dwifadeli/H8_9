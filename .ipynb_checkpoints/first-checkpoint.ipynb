{
 "cells": [
  {
   "cell_type": "code",
   "execution_count": 5,
   "id": "b20e69a9",
   "metadata": {},
   "outputs": [
    {
     "name": "stdout",
     "output_type": "stream",
     "text": [
      "<class 'float'>\n"
     ]
    }
   ],
   "source": [
    "print (type(10.8))"
   ]
  },
  {
   "cell_type": "markdown",
   "id": "318a1378",
   "metadata": {},
   "source": [
    "matematika : 5+1\n",
    "print (matermatika)"
   ]
  },
  {
   "cell_type": "code",
   "execution_count": 7,
   "id": "bf5d4ffb",
   "metadata": {},
   "outputs": [
    {
     "name": "stdout",
     "output_type": "stream",
     "text": [
      "<class 'bool'>\n"
     ]
    }
   ],
   "source": [
    "print (type(True))"
   ]
  },
  {
   "cell_type": "code",
   "execution_count": 10,
   "id": "e8edc980",
   "metadata": {},
   "outputs": [
    {
     "name": "stdout",
     "output_type": "stream",
     "text": [
      "1223\n"
     ]
    }
   ],
   "source": [
    "matematika='1223'\n",
    "print (matematika)"
   ]
  },
  {
   "cell_type": "code",
   "execution_count": 11,
   "id": "3b163af6",
   "metadata": {},
   "outputs": [
    {
     "name": "stdout",
     "output_type": "stream",
     "text": [
      "Hacktive8\n"
     ]
    }
   ],
   "source": [
    "nama = \"Hacktive\"\n",
    "nat= \"8\"\n",
    "print (nama + nat)"
   ]
  },
  {
   "cell_type": "code",
   "execution_count": 3,
   "id": "60d84b8d",
   "metadata": {},
   "outputs": [
    {
     "name": "stdout",
     "output_type": "stream",
     "text": [
      "Fadelii\n",
      "fAdELii\n",
      "fadelii\n"
     ]
    }
   ],
   "source": [
    "s='FaDelII'\n",
    "print (s.capitalize())\n",
    "print (s.swapcase())\n",
    "print (s.lower())"
   ]
  },
  {
   "cell_type": "code",
   "execution_count": 6,
   "id": "7215bb83",
   "metadata": {},
   "outputs": [
    {
     "name": "stdout",
     "output_type": "stream",
     "text": [
      "foo\n",
      "foo\n"
     ]
    }
   ],
   "source": [
    "(s1, s2, s3, s4) = ('foo', 'bar', 'baz', 'qux')\n",
    "print (s1)\n",
    "\n",
    "(s1, s2, s3, s4) = ['foo', 'bar', 'baz', 'qux']\n",
    "print (s1)"
   ]
  },
  {
   "cell_type": "code",
   "execution_count": 7,
   "id": "5eb4b11b",
   "metadata": {},
   "outputs": [
    {
     "name": "stdout",
     "output_type": "stream",
     "text": [
      "[1, 2, 3, 4, 5]\n",
      "(1, 2, 3, 4)\n"
     ]
    }
   ],
   "source": [
    "# Perbedaan tuples dengan list\n",
    "#List\n",
    "my_list = [1, 2, 3, 4]\n",
    "my_list.append(5) #-> ini digunakan untuk menambahkan list\n",
    "print(my_list)\n",
    "\n",
    "#tuple\n",
    "my_tuple = (1, 2, 3, 4)\n",
    "# my_tuple[0] = 5  # Ini akan menghasilkan error karena tuple bersifat immutable\n",
    "print(my_tuple)\n"
   ]
  },
  {
   "cell_type": "code",
   "execution_count": 9,
   "id": "3bc0ccc7",
   "metadata": {},
   "outputs": [
    {
     "name": "stdout",
     "output_type": "stream",
     "text": [
      "Fadeli\n",
      "23\n",
      "BFLP\n",
      "{'nama': 'Fadeli', 'umur': 23, 'pekerjaan': 'BFLP', 'lokasi': 'Jakarta'}\n"
     ]
    }
   ],
   "source": [
    "# Membuat dictionary\n",
    "my_dict = {'nama':'Fadeli', 'umur' : 23,'pekerjaan':'BFLP'}\n",
    "\n",
    "# Mengakses nilai berdasarkan kunci\n",
    "print(my_dict['nama'])\n",
    "print(my_dict['umur'])\n",
    "print(my_dict['pekerjaan'])\n",
    "\n",
    "# Menambahkan elemen ke dalam dictionary\n",
    "my_dict['lokasi'] = 'Jakarta'\n",
    "print(my_dict)\n",
    "\n"
   ]
  },
  {
   "cell_type": "code",
   "execution_count": 21,
   "id": "61b19ac2",
   "metadata": {},
   "outputs": [
    {
     "name": "stdout",
     "output_type": "stream",
     "text": [
      "3\n",
      "betul\n"
     ]
    }
   ],
   "source": [
    "#CASE 1 -> Jika a lebih besar dari c cetak nilai A, dan jika a lebih kecil dari b cetak betul\n",
    "\n",
    "a=3 \n",
    "b=4 \n",
    "c=1\n",
    "\n",
    "if a>c:\n",
    "    print (a)\n",
    "if a<b:\n",
    "    print ('betul')\n",
    "else:\n",
    "    print ('kemerdekaan adalah hak segala bangsa')"
   ]
  },
  {
   "cell_type": "code",
   "execution_count": 29,
   "id": "5d9629f8",
   "metadata": {},
   "outputs": [
    {
     "name": "stdout",
     "output_type": "stream",
     "text": [
      "tampil or\n",
      "Enggak\n"
     ]
    }
   ],
   "source": [
    "#Case 2 -> jika A lebih besar dar B dan lebih besar dari C tampilkan \"tampil\"\n",
    "\n",
    "if (a>b) | (a>c):\n",
    "    print('tampil or')\n",
    "if (a>b) & (a>c):\n",
    "    print('tampil and')\n",
    "else:\n",
    "    print('Enggak')"
   ]
  },
  {
   "cell_type": "code",
   "execution_count": 33,
   "id": "b65cd720",
   "metadata": {},
   "outputs": [
    {
     "name": "stdout",
     "output_type": "stream",
     "text": [
      "saya tidak pergi karena banjir\n",
      "saya tetap pergi karena banjir\n"
     ]
    }
   ],
   "source": [
    "#TUGAS LIST\n",
    "\n",
    "sistem=['saya','pergi','ke','LPPI','kemang']\n",
    "engineer=['tidak','jalan','karena','banjir']\n",
    "print (\n",
    "sistem[0],engineer[0],sistem[1],engineer[2],engineer[3]\n",
    ")\n",
    "\n",
    "engineer[0]='tetap'\n",
    "print (\n",
    "sistem[0],engineer[0],sistem[1],engineer[2],engineer[3]\n",
    ")"
   ]
  },
  {
   "cell_type": "code",
   "execution_count": 3,
   "id": "c5ecec68",
   "metadata": {},
   "outputs": [
    {
     "name": "stdout",
     "output_type": "stream",
     "text": [
      "false\n"
     ]
    }
   ],
   "source": [
    "#TUGAS BOOLEAN\n",
    "a=6\n",
    "b=7\n",
    "c=8\n",
    "if (c>a):\n",
    "    if (b>c):\n",
    "        print('true')\n",
    "    else:\n",
    "        print('false')\n",
    "else:\n",
    "    print('error')"
   ]
  },
  {
   "cell_type": "code",
   "execution_count": 9,
   "id": "85c6394a",
   "metadata": {},
   "outputs": [
    {
     "name": "stdout",
     "output_type": "stream",
     "text": [
      "{'nama': 'nama1', 'nilaiA': 80, 'nilaiB': 70, 'total': 150, 'keterangan': 'lulus'}\n",
      "{'nama': 'nama2', 'nilaiA': 55, 'nilaiB': 70, 'total': 125, 'keterangan': 'gagal'}\n",
      "{'nama': 'nama3', 'nilaiA': 80, 'nilaiB': 90, 'total': 170, 'keterangan': 'lulus'}\n",
      "{'nama': 'nama4', 'nilaiA': 75, 'nilaiB': 60, 'total': 135, 'keterangan': 'gagal'}\n",
      "{'nama': 'nama5', 'nilaiA': 90, 'nilaiB': 70, 'total': 160, 'keterangan': 'lulus'}\n"
     ]
    }
   ],
   "source": [
    "#TUGAS TABEL LULUS DAN TIDAK LULUS\n",
    "\n",
    "daftar_nama = [\n",
    "    {'nama': 'nama1', 'nilaiA': 80, 'nilaiB': 70},\n",
    "    {'nama': 'nama2', 'nilaiA': 55, 'nilaiB': 70},\n",
    "    {'nama': 'nama3', 'nilaiA': 80, 'nilaiB': 90},\n",
    "    {'nama': 'nama4', 'nilaiA': 75, 'nilaiB': 60},\n",
    "    {'nama': 'nama5', 'nilaiA': 90, 'nilaiB': 70}\n",
    "]\n",
    "for nama in daftar_nama:\n",
    "    if (nama['nilaiA'] <= 60) | (nama['nilaiB'] <= 60):\n",
    "        total=nama['nilaiA']+nama['nilaiB']\n",
    "        nama['total'] = total\n",
    "        \n",
    "        nama['keterangan'] = 'gagal'\n",
    "    else:\n",
    "        total=nama['nilaiA']+nama['nilaiB']\n",
    "        nama['total'] = total\n",
    "        \n",
    "        nama['keterangan'] = 'lulus'\n",
    "\n",
    "for nama in daftar_nama:\n",
    "    print(nama)\n",
    "    \n",
    "for nama in "
   ]
  },
  {
   "cell_type": "code",
   "execution_count": 24,
   "id": "e3a69861",
   "metadata": {},
   "outputs": [
    {
     "name": "stdout",
     "output_type": "stream",
     "text": [
      "nama =FADELI DWI P\n",
      "hobi =BASKET\n",
      "email =dwifadeli11@gmail.com\n",
      "uts =50\n",
      "uas =90\n",
      "Gagal\n"
     ]
    }
   ],
   "source": [
    "#TUGAS LULUS DAN TIDAK LULUS\n",
    "\n",
    "list_nama={}\n",
    "list_nama['nama']=input('nama =')\n",
    "list_nama['hobi']=input('hobi =')\n",
    "list_nama['email']=input('email =')\n",
    "list_nama['uts']=int(input('uts ='))\n",
    "list_nama['uas']=int(input('uas ='))\n",
    "\n",
    "if ((list_nama['uts']<=60) or (list_nama['uas']<=60)) or (list_nama['uts'] + list_nama['uas'] <= 125):\n",
    "    list_nama['keterangan']='Gagal'\n",
    "else:\n",
    "    list_nama['keterangan']='Lulus'\n",
    "print(list_nama['keterangan'])"
   ]
  },
  {
   "cell_type": "code",
   "execution_count": 21,
   "id": "31800984",
   "metadata": {},
   "outputs": [
    {
     "name": "stdout",
     "output_type": "stream",
     "text": [
      "Desimal = 66\n",
      "Biner = 1000010\n",
      "Okta = 102\n",
      "Hexa = 42\n",
      "Desimal = 97\n",
      "Biner = 1100001\n",
      "Okta = 141\n",
      "Hexa = 61\n",
      "Desimal = 84\n",
      "Biner = 1010100\n",
      "Okta = 124\n",
      "Hexa = 54\n"
     ]
    }
   ],
   "source": [
    "#TUGAS BINER,DESIMAL,OKTA,HEXA\n",
    "\n",
    "\n",
    "karakter = ['B','a','T']\n",
    "for i in karakter:\n",
    "    \n",
    "    desimal = ord(i)\n",
    "# Desimal\n",
    "    print('Desimal =', desimal)\n",
    "\n",
    "    # Biner\n",
    "    biner = ''\n",
    "    desimal1 = desimal\n",
    "    while desimal1 > 0:\n",
    "        sisa = desimal1 % 2\n",
    "        biner = str(sisa) + biner\n",
    "        desimal1 //= 2\n",
    "    print('Biner =', biner)\n",
    "\n",
    "# Okta\n",
    "    okta = ''\n",
    "    desimal2 = desimal\n",
    "    while desimal2 > 0:\n",
    "        sisa = desimal2 % 8\n",
    "        okta = str(sisa) + okta\n",
    "        desimal2 //= 8\n",
    "    print('Okta =', okta)\n",
    "\n",
    "# Hexa\n",
    "    hexa = ''\n",
    "    desimal3 = desimal\n",
    "    while desimal3 > 0:\n",
    "        sisa = desimal3 % 16\n",
    "        if sisa < 10:\n",
    "            hexa = str(sisa) + hexa\n",
    "        else:\n",
    "            hexa = chr(ord('A') + sisa - 10) + hexa\n",
    "        desimal3 //= 16\n",
    "    print('Hexa =', hexa)\n"
   ]
  },
  {
   "cell_type": "code",
   "execution_count": 23,
   "id": "6b710904",
   "metadata": {},
   "outputs": [
    {
     "name": "stdout",
     "output_type": "stream",
     "text": [
      "12\n",
      "13\n",
      "14\n",
      "15\n",
      "Berhasil Running hingga = 19\n",
      "selesai\n"
     ]
    }
   ],
   "source": [
    "#TUGAS PERULANGAN\n",
    "\n",
    "s=12\n",
    "wadah = []\n",
    "while s<19:\n",
    "    wadah.append(s)\n",
    "    s=s+1\n",
    "i=0\n",
    "for i in wadah[:4]:\n",
    "    print (i)\n",
    "print('Berhasil Running hingga =', s)\n",
    "print('selesai')\n",
    "\n"
   ]
  },
  {
   "cell_type": "code",
   "execution_count": 11,
   "id": "3f991820",
   "metadata": {},
   "outputs": [
    {
     "name": "stdout",
     "output_type": "stream",
     "text": [
      "nama : Fadeli Dwi Priyanta\n",
      "PN   : 00345975\n",
      "kode_peserta : BFLP001SY004\n",
      "Jum, 2 Feb 2024 | 08:55\n",
      "\n"
     ]
    }
   ],
   "source": [
    "#ISI FILE\n",
    "source_data=open('source/data.txt','a')\n",
    "source_data.write('Jum, 2 Feb 2024 | 08:55')\n",
    "source_data.close()\n",
    "\n",
    "#OPEN\n",
    "source_data=open('source/data.txt')\n",
    "cetak_data=source_data.read()\n",
    "print(cetak_data)\n",
    "# print(cetak_data[0],cetak_data[1],cetak_data[2])\n",
    "source_data.close()\n",
    "\n",
    "\n"
   ]
  },
  {
   "cell_type": "code",
   "execution_count": 12,
   "id": "bcb4da30",
   "metadata": {},
   "outputs": [
    {
     "name": "stdout",
     "output_type": "stream",
     "text": [
      "Pelatihan kita di LPPI \n",
      "kemang dengan waktu yang telah ditentukan!!!\n"
     ]
    }
   ],
   "source": [
    "f=open('source/data.txt','r+')\n",
    "f.write(\"Pelatihan kita di LPPI \\nkemang dengan waktu yang telah ditentukan!!\")\n",
    "f.seek(0)\n",
    "print(f.read())\n",
    "f.close()"
   ]
  },
  {
   "cell_type": "code",
   "execution_count": 16,
   "id": "d6af27d3",
   "metadata": {},
   "outputs": [
    {
     "name": "stdout",
     "output_type": "stream",
     "text": [
      "Pelatihan kita di LPPI \n",
      "dari pagi sampai sore.\n",
      "dari pagi sampai sore.\n",
      "kemang dengan waktu yang telah ditentukan!!!\n"
     ]
    }
   ],
   "source": [
    "f=open('source/data.txt','r+')\n",
    "baca=f.readlines()\n",
    "kalimat_tambahan = \"dari pagi sampai sore.\\n\"\n",
    "baca.insert(1, kalimat_tambahan)\n",
    "\n",
    "f.seek(0)\n",
    "f.writelines(baca)\n",
    "\n",
    "f.seek(0)\n",
    "print(f.read())\n"
   ]
  },
  {
   "cell_type": "code",
   "execution_count": 17,
   "id": "ac5033cf",
   "metadata": {},
   "outputs": [
    {
     "name": "stdout",
     "output_type": "stream",
     "text": [
      "Pelatihan kita di LPPI \n",
      "dari pagi sampai sore.\n",
      "kemang dengan waktu yang telah ditentukan!!!ang telah ditentukan!!!\n"
     ]
    }
   ],
   "source": [
    "f=open('source/data.txt','r+')\n",
    "baca=f.readlines()\n",
    "del baca [1]\n",
    "f.seek(0)\n",
    "f.writelines(baca)\n",
    "\n",
    "f.seek(0)\n",
    "print(f.read())"
   ]
  },
  {
   "cell_type": "code",
   "execution_count": 18,
   "id": "5c89baa3",
   "metadata": {},
   "outputs": [
    {
     "name": "stdout",
     "output_type": "stream",
     "text": [
      "Nama: ANI\n",
      "Desimal untuk A = 65\n",
      "Biner untuk A = 1000001\n",
      "Okta untuk A = 101\n",
      "Hexa untuk A = 41\n",
      "--------------------\n",
      "Desimal untuk N = 78\n",
      "Biner untuk N = 1001110\n",
      "Okta untuk N = 116\n",
      "Hexa untuk N = 4E\n",
      "--------------------\n",
      "Desimal untuk I = 73\n",
      "Biner untuk I = 1001001\n",
      "Okta untuk I = 111\n",
      "Hexa untuk I = 49\n",
      "--------------------\n"
     ]
    }
   ],
   "source": [
    "karakter_input = input('Nama: ')\n",
    "for karakter in karakter_input:\n",
    "    desimal = ord(karakter)\n",
    "\n",
    "    # Desimal\n",
    "    print('Desimal untuk', karakter, '=', desimal)\n",
    "\n",
    "    # Biner\n",
    "    biner = ''\n",
    "    desimal1 = desimal\n",
    "    while desimal1 > 0:\n",
    "        sisa = desimal1 % 2\n",
    "        biner = str(sisa) + biner\n",
    "        desimal1 //= 2\n",
    "    print('Biner untuk', karakter, '=', biner)\n",
    "\n",
    "    # Okta\n",
    "    okta = ''\n",
    "    desimal2 = desimal\n",
    "    while desimal2 > 0:\n",
    "        sisa = desimal2 % 8\n",
    "        okta = str(sisa) + okta\n",
    "        desimal2 //= 8\n",
    "    print('Okta untuk', karakter, '=', okta)\n",
    "\n",
    "    # Hexa\n",
    "    hexa = ''\n",
    "    desimal3 = desimal\n",
    "    while desimal3 > 0:\n",
    "        sisa = desimal3 % 16\n",
    "        if sisa < 10:\n",
    "            hexa = str(sisa) + hexa\n",
    "        else:\n",
    "            hexa = chr(ord('A') + sisa - 10) + hexa\n",
    "        desimal3 //= 16\n",
    "    print('Hexa untuk', karakter, '=', hexa)\n",
    "\n",
    "    print('-' * 20) \n"
   ]
  },
  {
   "cell_type": "code",
   "execution_count": 31,
   "id": "9637cecb",
   "metadata": {},
   "outputs": [
    {
     "name": "stdout",
     "output_type": "stream",
     "text": [
      "Nama: Fadeli\n",
      "Ruang: 212\n",
      "Skema: System Engineer\n",
      "Desimal untuk F = 70\n",
      "Biner untuk F = 1000110\n",
      "Okta untuk F = 106\n",
      "Hexa untuk F = 46\n",
      "--------------------\n",
      "\n",
      "Desimal untuk a = 97\n",
      "Biner untuk a = 1100001\n",
      "Okta untuk a = 141\n",
      "Hexa untuk a = 61\n",
      "--------------------\n",
      "\n",
      "Desimal untuk d = 100\n",
      "Biner untuk d = 1100100\n",
      "Okta untuk d = 144\n",
      "Hexa untuk d = 64\n",
      "--------------------\n",
      "\n",
      "Desimal untuk e = 101\n",
      "Biner untuk e = 1100101\n",
      "Okta untuk e = 145\n",
      "Hexa untuk e = 65\n",
      "--------------------\n",
      "\n",
      "Desimal untuk l = 108\n",
      "Biner untuk l = 1101100\n",
      "Okta untuk l = 154\n",
      "Hexa untuk l = 6C\n",
      "--------------------\n",
      "\n",
      "Desimal untuk i = 105\n",
      "Biner untuk i = 1101001\n",
      "Okta untuk i = 151\n",
      "Hexa untuk i = 69\n",
      "--------------------\n",
      "\n",
      "Hasil konversi telah disimpan di source/handling.txt\n"
     ]
    }
   ],
   "source": [
    "def konversi_karakter(input_nama,ruang,skema, output_file):\n",
    "    with open(output_file, 'r+') as output:\n",
    "        output.write(f'Nama : {input_nama}\\n')\n",
    "        output.write(f'Ruang : {ruang}\\n')\n",
    "        output.write(f'Skema : {skema}\\n\\n')\n",
    "        \n",
    "        for karakter in input_nama:\n",
    "            desimal = ord(karakter)\n",
    "\n",
    "            # Desimal\n",
    "            print(f'Desimal untuk {karakter} = {desimal}')\n",
    "            output.write(f'Desimal untuk {karakter} = {desimal}\\n')\n",
    "\n",
    "            # Biner\n",
    "            biner = ''\n",
    "            desimal1 = desimal\n",
    "            while desimal1 > 0:\n",
    "                sisa = desimal1 % 2\n",
    "                biner = str(sisa) + biner\n",
    "                desimal1 //= 2\n",
    "            print(f'Biner untuk {karakter} = {biner}')\n",
    "            output.write(f'Biner untuk {karakter} = {biner}\\n')\n",
    "\n",
    "            # Okta\n",
    "            okta = ''\n",
    "            desimal2 = desimal\n",
    "            while desimal2 > 0:\n",
    "                sisa = desimal2 % 8\n",
    "                okta = str(sisa) + okta\n",
    "                desimal2 //= 8\n",
    "            print(f'Okta untuk {karakter} = {okta}')\n",
    "            output.write(f'Okta untuk {karakter} = {okta}\\n')\n",
    "\n",
    "            # Hexa\n",
    "            hexa = ''\n",
    "            desimal3 = desimal\n",
    "            while desimal3 > 0:\n",
    "                sisa = desimal3 % 16\n",
    "                if sisa < 10:\n",
    "                    hexa = str(sisa) + hexa\n",
    "                else:\n",
    "                    hexa = chr(ord('A') + sisa - 10) + hexa\n",
    "                desimal3 //= 16\n",
    "            print(f'Hexa untuk {karakter} = {hexa}')\n",
    "            output.write(f'Hexa untuk {karakter} = {hexa}\\n')\n",
    "            print('-' * 20 + '\\n')\n",
    "            output.write('-' * 20 + '\\n')  # Separator between characters\n",
    "\n",
    "\n",
    "            \n",
    "karakter_input = input('Nama: ')\n",
    "ruang = input('Ruang: ')\n",
    "skema = input('Skema: ')\n",
    "\n",
    "output_file_path = 'source/handling.txt'\n",
    "konversi_karakter(karakter_input,ruang,skema, output_file_path)\n",
    "print(f'Hasil konversi telah disimpan di {output_file_path}')\n"
   ]
  },
  {
   "cell_type": "code",
   "execution_count": 18,
   "id": "9cfd46c4",
   "metadata": {},
   "outputs": [
    {
     "ename": "NameError",
     "evalue": "name 'column' is not defined",
     "output_type": "error",
     "traceback": [
      "\u001b[0;31m---------------------------------------------------------------------------\u001b[0m",
      "\u001b[0;31mNameError\u001b[0m                                 Traceback (most recent call last)",
      "Cell \u001b[0;32mIn[18], line 22\u001b[0m\n\u001b[1;32m     19\u001b[0m myresult \u001b[38;5;241m=\u001b[39m mycursor\u001b[38;5;241m.\u001b[39mfetchall()\n\u001b[1;32m     20\u001b[0m \u001b[38;5;66;03m# print(myresult)\u001b[39;00m\n\u001b[1;32m     21\u001b[0m \u001b[38;5;66;03m# Close cursor and connection\u001b[39;00m\n\u001b[0;32m---> 22\u001b[0m df \u001b[38;5;241m=\u001b[39m pd\u001b[38;5;241m.\u001b[39mDataFrame(myresult, columns\u001b[38;5;241m=\u001b[39m\u001b[43mcolumn\u001b[49m)\u001b[38;5;241m.\u001b[39mhead(\u001b[38;5;241m30\u001b[39m)\n\u001b[1;32m     23\u001b[0m \u001b[38;5;28mprint\u001b[39m(df)\n\u001b[1;32m     24\u001b[0m mycursor\u001b[38;5;241m.\u001b[39mclose()\n",
      "\u001b[0;31mNameError\u001b[0m: name 'column' is not defined"
     ]
    }
   ],
   "source": [
    "import mysql.connector\n",
    "import pandas as pd\n",
    "\n",
    "\n",
    "mydb = mysql.connector.connect(\n",
    "    host=\"localhost\",\n",
    "    user=\"root\",\n",
    "    password=\"warmad123\",\n",
    "    database=\"sakila\"\n",
    ")\n",
    "\n",
    "mycursor = mydb.cursor()\n",
    "\n",
    "# Inserting data into 'divisi'\n",
    "# mycursor.execute(\"insert into divisi values ('190','232','Bakawan')\")\n",
    "# mydb.commit()\n",
    "\n",
    "mycursor.execute('SELECT * FROM actor')\n",
    "myresult = mycursor.fetchall()\n",
    "# print(myresult)\n",
    "# Close cursor and connection\n",
    "df = pd.DataFrame(myresult, columns=column).head(30)\n",
    "print(df)\n",
    "mycursor.close()\n",
    "mydb.close()\n"
   ]
  }
 ],
 "metadata": {
  "kernelspec": {
   "display_name": "Python 3 (ipykernel)",
   "language": "python",
   "name": "python3"
  },
  "language_info": {
   "codemirror_mode": {
    "name": "ipython",
    "version": 3
   },
   "file_extension": ".py",
   "mimetype": "text/x-python",
   "name": "python",
   "nbconvert_exporter": "python",
   "pygments_lexer": "ipython3",
   "version": "3.10.5"
  }
 },
 "nbformat": 4,
 "nbformat_minor": 5
}
