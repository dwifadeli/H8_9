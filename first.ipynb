{
 "cells": [
  {
   "cell_type": "code",
   "execution_count": 5,
   "id": "b20e69a9",
   "metadata": {},
   "outputs": [
    {
     "name": "stdout",
     "output_type": "stream",
     "text": [
      "<class 'float'>\n"
     ]
    }
   ],
   "source": [
    "print (type(10.8))"
   ]
  },
  {
   "cell_type": "markdown",
   "id": "318a1378",
   "metadata": {},
   "source": [
    "matematika : 5+1\n",
    "print (matermatika)"
   ]
  },
  {
   "cell_type": "code",
   "execution_count": 7,
   "id": "bf5d4ffb",
   "metadata": {},
   "outputs": [
    {
     "name": "stdout",
     "output_type": "stream",
     "text": [
      "<class 'bool'>\n"
     ]
    }
   ],
   "source": [
    "print (type(True))"
   ]
  },
  {
   "cell_type": "code",
   "execution_count": 10,
   "id": "e8edc980",
   "metadata": {},
   "outputs": [
    {
     "name": "stdout",
     "output_type": "stream",
     "text": [
      "1223\n"
     ]
    }
   ],
   "source": [
    "matematika='1223'\n",
    "print (matematika)"
   ]
  },
  {
   "cell_type": "code",
   "execution_count": 11,
   "id": "3b163af6",
   "metadata": {},
   "outputs": [
    {
     "name": "stdout",
     "output_type": "stream",
     "text": [
      "Hacktive8\n"
     ]
    }
   ],
   "source": [
    "nama = \"Hacktive\"\n",
    "nat= \"8\"\n",
    "print (nama + nat)"
   ]
  },
  {
   "cell_type": "code",
   "execution_count": 3,
   "id": "60d84b8d",
   "metadata": {},
   "outputs": [
    {
     "name": "stdout",
     "output_type": "stream",
     "text": [
      "Fadelii\n",
      "fAdELii\n",
      "fadelii\n"
     ]
    }
   ],
   "source": [
    "s='FaDelII'\n",
    "print (s.capitalize())\n",
    "print (s.swapcase())\n",
    "print (s.lower())"
   ]
  },
  {
   "cell_type": "code",
   "execution_count": 6,
   "id": "7215bb83",
   "metadata": {},
   "outputs": [
    {
     "name": "stdout",
     "output_type": "stream",
     "text": [
      "foo\n",
      "foo\n"
     ]
    }
   ],
   "source": [
    "(s1, s2, s3, s4) = ('foo', 'bar', 'baz', 'qux')\n",
    "print (s1)\n",
    "\n",
    "(s1, s2, s3, s4) = ['foo', 'bar', 'baz', 'qux']\n",
    "print (s1)"
   ]
  },
  {
   "cell_type": "code",
   "execution_count": 7,
   "id": "5eb4b11b",
   "metadata": {},
   "outputs": [
    {
     "name": "stdout",
     "output_type": "stream",
     "text": [
      "[1, 2, 3, 4, 5]\n",
      "(1, 2, 3, 4)\n"
     ]
    }
   ],
   "source": [
    "# Perbedaan tuples dengan list\n",
    "#List\n",
    "my_list = [1, 2, 3, 4]\n",
    "my_list.append(5) #-> ini digunakan untuk menambahkan list\n",
    "print(my_list)\n",
    "\n",
    "#tuple\n",
    "my_tuple = (1, 2, 3, 4)\n",
    "# my_tuple[0] = 5  # Ini akan menghasilkan error karena tuple bersifat immutable\n",
    "print(my_tuple)\n"
   ]
  },
  {
   "cell_type": "code",
   "execution_count": 9,
   "id": "3bc0ccc7",
   "metadata": {},
   "outputs": [
    {
     "name": "stdout",
     "output_type": "stream",
     "text": [
      "Fadeli\n",
      "23\n",
      "BFLP\n",
      "{'nama': 'Fadeli', 'umur': 23, 'pekerjaan': 'BFLP', 'lokasi': 'Jakarta'}\n"
     ]
    }
   ],
   "source": [
    "# Membuat dictionary\n",
    "my_dict = {'nama':'Fadeli', 'umur' : 23,'pekerjaan':'BFLP'}\n",
    "\n",
    "# Mengakses nilai berdasarkan kunci\n",
    "print(my_dict['nama'])\n",
    "print(my_dict['umur'])\n",
    "print(my_dict['pekerjaan'])\n",
    "\n",
    "# Menambahkan elemen ke dalam dictionary\n",
    "my_dict['lokasi'] = 'Jakarta'\n",
    "print(my_dict)\n",
    "\n"
   ]
  },
  {
   "cell_type": "code",
   "execution_count": 21,
   "id": "61b19ac2",
   "metadata": {},
   "outputs": [
    {
     "name": "stdout",
     "output_type": "stream",
     "text": [
      "3\n",
      "betul\n"
     ]
    }
   ],
   "source": [
    "#CASE 1 -> Jika a lebih besar dari c cetak nilai A, dan jika a lebih kecil dari b cetak betul\n",
    "\n",
    "a=3 \n",
    "b=4 \n",
    "c=1\n",
    "\n",
    "if a>c:\n",
    "    print (a)\n",
    "if a<b:\n",
    "    print ('betul')\n",
    "else:\n",
    "    print ('kemerdekaan adalah hak segala bangsa')"
   ]
  },
  {
   "cell_type": "code",
   "execution_count": 29,
   "id": "5d9629f8",
   "metadata": {},
   "outputs": [
    {
     "name": "stdout",
     "output_type": "stream",
     "text": [
      "tampil or\n",
      "Enggak\n"
     ]
    }
   ],
   "source": [
    "#Case 2 -> jika A lebih besar dar B dan lebih besar dari C tampilkan \"tampil\"\n",
    "\n",
    "if (a>b) | (a>c):\n",
    "    print('tampil or')\n",
    "if (a>b) & (a>c):\n",
    "    print('tampil and')\n",
    "else:\n",
    "    print('Enggak')"
   ]
  },
  {
   "cell_type": "code",
   "execution_count": 33,
   "id": "b65cd720",
   "metadata": {},
   "outputs": [
    {
     "name": "stdout",
     "output_type": "stream",
     "text": [
      "saya tidak pergi karena banjir\n",
      "saya tetap pergi karena banjir\n"
     ]
    }
   ],
   "source": [
    "#TUGAS LIST\n",
    "\n",
    "sistem=['saya','pergi','ke','LPPI','kemang']\n",
    "engineer=['tidak','jalan','karena','banjir']\n",
    "print (\n",
    "sistem[0],engineer[0],sistem[1],engineer[2],engineer[3]\n",
    ")\n",
    "\n",
    "engineer[0]='tetap'\n",
    "print (\n",
    "sistem[0],engineer[0],sistem[1],engineer[2],engineer[3]\n",
    ")"
   ]
  },
  {
   "cell_type": "code",
   "execution_count": 3,
   "id": "c5ecec68",
   "metadata": {},
   "outputs": [
    {
     "name": "stdout",
     "output_type": "stream",
     "text": [
      "false\n"
     ]
    }
   ],
   "source": [
    "#TUGAS BOOLEAN\n",
    "a=6\n",
    "b=7\n",
    "c=8\n",
    "if (c>a):\n",
    "    if (b>c):\n",
    "        print('true')\n",
    "    else:\n",
    "        print('false')\n",
    "else:\n",
    "    print('error')"
   ]
  },
  {
   "cell_type": "code",
   "execution_count": 9,
   "id": "85c6394a",
   "metadata": {},
   "outputs": [
    {
     "name": "stdout",
     "output_type": "stream",
     "text": [
      "{'nama': 'nama1', 'nilaiA': 80, 'nilaiB': 70, 'total': 150, 'keterangan': 'lulus'}\n",
      "{'nama': 'nama2', 'nilaiA': 55, 'nilaiB': 70, 'total': 125, 'keterangan': 'gagal'}\n",
      "{'nama': 'nama3', 'nilaiA': 80, 'nilaiB': 90, 'total': 170, 'keterangan': 'lulus'}\n",
      "{'nama': 'nama4', 'nilaiA': 75, 'nilaiB': 60, 'total': 135, 'keterangan': 'gagal'}\n",
      "{'nama': 'nama5', 'nilaiA': 90, 'nilaiB': 70, 'total': 160, 'keterangan': 'lulus'}\n"
     ]
    }
   ],
   "source": [
    "#TUGAS TABEL LULUS DAN TIDAK LULUS\n",
    "\n",
    "daftar_nama = [\n",
    "    {'nama': 'nama1', 'nilaiA': 80, 'nilaiB': 70},\n",
    "    {'nama': 'nama2', 'nilaiA': 55, 'nilaiB': 70},\n",
    "    {'nama': 'nama3', 'nilaiA': 80, 'nilaiB': 90},\n",
    "    {'nama': 'nama4', 'nilaiA': 75, 'nilaiB': 60},\n",
    "    {'nama': 'nama5', 'nilaiA': 90, 'nilaiB': 70}\n",
    "]\n",
    "for nama in daftar_nama:\n",
    "    if (nama['nilaiA'] <= 60) | (nama['nilaiB'] <= 60):\n",
    "        total=nama['nilaiA']+nama['nilaiB']\n",
    "        nama['total'] = total\n",
    "        \n",
    "        nama['keterangan'] = 'gagal'\n",
    "    else:\n",
    "        total=nama['nilaiA']+nama['nilaiB']\n",
    "        nama['total'] = total\n",
    "        \n",
    "        nama['keterangan'] = 'lulus'\n",
    "\n",
    "for nama in daftar_nama:\n",
    "    print(nama)\n",
    "    \n",
    "for nama in "
   ]
  },
  {
   "cell_type": "code",
   "execution_count": 24,
   "id": "e3a69861",
   "metadata": {},
   "outputs": [
    {
     "name": "stdout",
     "output_type": "stream",
     "text": [
      "nama =FADELI DWI P\n",
      "hobi =BASKET\n",
      "email =dwifadeli11@gmail.com\n",
      "uts =50\n",
      "uas =90\n",
      "Gagal\n"
     ]
    }
   ],
   "source": [
    "#TUGAS LULUS DAN TIDAK LULUS\n",
    "\n",
    "list_nama={}\n",
    "list_nama['nama']=input('nama =')\n",
    "list_nama['hobi']=input('hobi =')\n",
    "list_nama['email']=input('email =')\n",
    "list_nama['uts']=int(input('uts ='))\n",
    "list_nama['uas']=int(input('uas ='))\n",
    "\n",
    "if ((list_nama['uts']<=60) or (list_nama['uas']<=60)) or (list_nama['uts'] + list_nama['uas'] <= 125):\n",
    "    list_nama['keterangan']='Gagal'\n",
    "else:\n",
    "    list_nama['keterangan']='Lulus'\n",
    "print(list_nama['keterangan'])"
   ]
  },
  {
   "cell_type": "code",
   "execution_count": 21,
   "id": "31800984",
   "metadata": {},
   "outputs": [
    {
     "name": "stdout",
     "output_type": "stream",
     "text": [
      "Desimal = 66\n",
      "Biner = 1000010\n",
      "Okta = 102\n",
      "Hexa = 42\n",
      "Desimal = 97\n",
      "Biner = 1100001\n",
      "Okta = 141\n",
      "Hexa = 61\n",
      "Desimal = 84\n",
      "Biner = 1010100\n",
      "Okta = 124\n",
      "Hexa = 54\n"
     ]
    }
   ],
   "source": [
    "#TUGAS BINER,DESIMAL,OKTA,HEXA\n",
    "\n",
    "\n",
    "karakter = ['B','a','T']\n",
    "for i in karakter:\n",
    "    \n",
    "    desimal = ord(i)\n",
    "# Desimal\n",
    "    print('Desimal =', desimal)\n",
    "\n",
    "    # Biner\n",
    "    biner = ''\n",
    "    desimal1 = desimal\n",
    "    while desimal1 > 0:\n",
    "        sisa = desimal1 % 2\n",
    "        biner = str(sisa) + biner\n",
    "        desimal1 //= 2\n",
    "    print('Biner =', biner)\n",
    "\n",
    "# Okta\n",
    "    okta = ''\n",
    "    desimal2 = desimal\n",
    "    while desimal2 > 0:\n",
    "        sisa = desimal2 % 8\n",
    "        okta = str(sisa) + okta\n",
    "        desimal2 //= 8\n",
    "    print('Okta =', okta)\n",
    "\n",
    "# Hexa\n",
    "    hexa = ''\n",
    "    desimal3 = desimal\n",
    "    while desimal3 > 0:\n",
    "        sisa = desimal3 % 16\n",
    "        if sisa < 10:\n",
    "            hexa = str(sisa) + hexa\n",
    "        else:\n",
    "            hexa = chr(ord('A') + sisa - 10) + hexa\n",
    "        desimal3 //= 16\n",
    "    print('Hexa =', hexa)\n"
   ]
  },
  {
   "cell_type": "code",
   "execution_count": 23,
   "id": "6b710904",
   "metadata": {},
   "outputs": [
    {
     "name": "stdout",
     "output_type": "stream",
     "text": [
      "12\n",
      "13\n",
      "14\n",
      "15\n",
      "Berhasil Running hingga = 19\n",
      "selesai\n"
     ]
    }
   ],
   "source": [
    "#TUGAS PERULANGAN\n",
    "\n",
    "s=12\n",
    "wadah = []\n",
    "while s<19:\n",
    "    wadah.append(s)\n",
    "    s=s+1\n",
    "i=0\n",
    "for i in wadah[:4]:\n",
    "    print (i)\n",
    "print('Berhasil Running hingga =', s)\n",
    "print('selesai')\n",
    "\n"
   ]
  },
  {
   "cell_type": "code",
   "execution_count": 11,
   "id": "3f991820",
   "metadata": {},
   "outputs": [
    {
     "name": "stdout",
     "output_type": "stream",
     "text": [
      "nama : Fadeli Dwi Priyanta\n",
      "PN   : 00345975\n",
      "kode_peserta : BFLP001SY004\n",
      "Jum, 2 Feb 2024 | 08:55\n",
      "\n"
     ]
    }
   ],
   "source": [
    "#ISI FILE\n",
    "source_data=open('source/data.txt','a')\n",
    "source_data.write('Jum, 2 Feb 2024 | 08:55')\n",
    "source_data.close()\n",
    "\n",
    "#OPEN\n",
    "source_data=open('source/data.txt')\n",
    "cetak_data=source_data.read()\n",
    "print(cetak_data)\n",
    "# print(cetak_data[0],cetak_data[1],cetak_data[2])\n",
    "source_data.close()\n",
    "\n",
    "\n"
   ]
  },
  {
   "cell_type": "code",
   "execution_count": 12,
   "id": "bcb4da30",
   "metadata": {},
   "outputs": [
    {
     "name": "stdout",
     "output_type": "stream",
     "text": [
      "Pelatihan kita di LPPI \n",
      "kemang dengan waktu yang telah ditentukan!!!\n"
     ]
    }
   ],
   "source": [
    "f=open('source/data.txt','r+')\n",
    "f.write(\"Pelatihan kita di LPPI \\nkemang dengan waktu yang telah ditentukan!!\")\n",
    "f.seek(0)\n",
    "print(f.read())\n",
    "f.close()"
   ]
  },
  {
   "cell_type": "code",
   "execution_count": 16,
   "id": "d6af27d3",
   "metadata": {},
   "outputs": [
    {
     "name": "stdout",
     "output_type": "stream",
     "text": [
      "Pelatihan kita di LPPI \n",
      "dari pagi sampai sore.\n",
      "dari pagi sampai sore.\n",
      "kemang dengan waktu yang telah ditentukan!!!\n"
     ]
    }
   ],
   "source": [
    "f=open('source/data.txt','r+')\n",
    "baca=f.readlines()\n",
    "kalimat_tambahan = \"dari pagi sampai sore.\\n\"\n",
    "baca.insert(1, kalimat_tambahan)\n",
    "\n",
    "f.seek(0)\n",
    "f.writelines(baca)\n",
    "\n",
    "f.seek(0)\n",
    "print(f.read())\n"
   ]
  },
  {
   "cell_type": "code",
   "execution_count": 17,
   "id": "ac5033cf",
   "metadata": {},
   "outputs": [
    {
     "name": "stdout",
     "output_type": "stream",
     "text": [
      "Pelatihan kita di LPPI \n",
      "dari pagi sampai sore.\n",
      "kemang dengan waktu yang telah ditentukan!!!ang telah ditentukan!!!\n"
     ]
    }
   ],
   "source": [
    "f=open('source/data.txt','r+')\n",
    "baca=f.readlines()\n",
    "del baca [1]\n",
    "f.seek(0)\n",
    "f.writelines(baca)\n",
    "\n",
    "f.seek(0)\n",
    "print(f.read())"
   ]
  },
  {
   "cell_type": "code",
   "execution_count": 18,
   "id": "5c89baa3",
   "metadata": {},
   "outputs": [
    {
     "name": "stdout",
     "output_type": "stream",
     "text": [
      "Nama: ANI\n",
      "Desimal untuk A = 65\n",
      "Biner untuk A = 1000001\n",
      "Okta untuk A = 101\n",
      "Hexa untuk A = 41\n",
      "--------------------\n",
      "Desimal untuk N = 78\n",
      "Biner untuk N = 1001110\n",
      "Okta untuk N = 116\n",
      "Hexa untuk N = 4E\n",
      "--------------------\n",
      "Desimal untuk I = 73\n",
      "Biner untuk I = 1001001\n",
      "Okta untuk I = 111\n",
      "Hexa untuk I = 49\n",
      "--------------------\n"
     ]
    }
   ],
   "source": [
    "karakter_input = input('Nama: ')\n",
    "for karakter in karakter_input:\n",
    "    desimal = ord(karakter)\n",
    "\n",
    "    # Desimal\n",
    "    print('Desimal untuk', karakter, '=', desimal)\n",
    "\n",
    "    # Biner\n",
    "    biner = ''\n",
    "    desimal1 = desimal\n",
    "    while desimal1 > 0:\n",
    "        sisa = desimal1 % 2\n",
    "        biner = str(sisa) + biner\n",
    "        desimal1 //= 2\n",
    "    print('Biner untuk', karakter, '=', biner)\n",
    "\n",
    "    # Okta\n",
    "    okta = ''\n",
    "    desimal2 = desimal\n",
    "    while desimal2 > 0:\n",
    "        sisa = desimal2 % 8\n",
    "        okta = str(sisa) + okta\n",
    "        desimal2 //= 8\n",
    "    print('Okta untuk', karakter, '=', okta)\n",
    "\n",
    "    # Hexa\n",
    "    hexa = ''\n",
    "    desimal3 = desimal\n",
    "    while desimal3 > 0:\n",
    "        sisa = desimal3 % 16\n",
    "        if sisa < 10:\n",
    "            hexa = str(sisa) + hexa\n",
    "        else:\n",
    "            hexa = chr(ord('A') + sisa - 10) + hexa\n",
    "        desimal3 //= 16\n",
    "    print('Hexa untuk', karakter, '=', hexa)\n",
    "\n",
    "    print('-' * 20) \n"
   ]
  },
  {
   "cell_type": "code",
   "execution_count": 31,
   "id": "9637cecb",
   "metadata": {
    "scrolled": true
   },
   "outputs": [
    {
     "name": "stdout",
     "output_type": "stream",
     "text": [
      "Nama: Fadeli\n",
      "Ruang: 212\n",
      "Skema: System Engineer\n",
      "Desimal untuk F = 70\n",
      "Biner untuk F = 1000110\n",
      "Okta untuk F = 106\n",
      "Hexa untuk F = 46\n",
      "--------------------\n",
      "\n",
      "Desimal untuk a = 97\n",
      "Biner untuk a = 1100001\n",
      "Okta untuk a = 141\n",
      "Hexa untuk a = 61\n",
      "--------------------\n",
      "\n",
      "Desimal untuk d = 100\n",
      "Biner untuk d = 1100100\n",
      "Okta untuk d = 144\n",
      "Hexa untuk d = 64\n",
      "--------------------\n",
      "\n",
      "Desimal untuk e = 101\n",
      "Biner untuk e = 1100101\n",
      "Okta untuk e = 145\n",
      "Hexa untuk e = 65\n",
      "--------------------\n",
      "\n",
      "Desimal untuk l = 108\n",
      "Biner untuk l = 1101100\n",
      "Okta untuk l = 154\n",
      "Hexa untuk l = 6C\n",
      "--------------------\n",
      "\n",
      "Desimal untuk i = 105\n",
      "Biner untuk i = 1101001\n",
      "Okta untuk i = 151\n",
      "Hexa untuk i = 69\n",
      "--------------------\n",
      "\n",
      "Hasil konversi telah disimpan di source/handling.txt\n"
     ]
    }
   ],
   "source": [
    "def konversi_karakter(input_nama,ruang,skema, output_file):\n",
    "    with open(output_file, 'r+') as output:\n",
    "        output.write(f'Nama : {input_nama}\\n')\n",
    "        output.write(f'Ruang : {ruang}\\n')\n",
    "        output.write(f'Skema : {skema}\\n\\n')\n",
    "        \n",
    "        for karakter in input_nama:\n",
    "            desimal = ord(karakter)\n",
    "\n",
    "            # Desimal\n",
    "            print(f'Desimal untuk {karakter} = {desimal}')\n",
    "            output.write(f'Desimal untuk {karakter} = {desimal}\\n')\n",
    "\n",
    "            # Biner\n",
    "            biner = ''\n",
    "            desimal1 = desimal\n",
    "            while desimal1 > 0:\n",
    "                sisa = desimal1 % 2\n",
    "                biner = str(sisa) + biner\n",
    "                desimal1 //= 2\n",
    "            print(f'Biner untuk {karakter} = {biner}')\n",
    "            output.write(f'Biner untuk {karakter} = {biner}\\n')\n",
    "\n",
    "            # Okta\n",
    "            okta = ''\n",
    "            desimal2 = desimal\n",
    "            while desimal2 > 0:\n",
    "                sisa = desimal2 % 8\n",
    "                okta = str(sisa) + okta\n",
    "                desimal2 //= 8\n",
    "            print(f'Okta untuk {karakter} = {okta}')\n",
    "            output.write(f'Okta untuk {karakter} = {okta}\\n')\n",
    "\n",
    "            # Hexa\n",
    "            hexa = ''\n",
    "            desimal3 = desimal\n",
    "            while desimal3 > 0:\n",
    "                sisa = desimal3 % 16\n",
    "                if sisa < 10:\n",
    "                    hexa = str(sisa) + hexa\n",
    "                else:\n",
    "                    hexa = chr(ord('A') + sisa - 10) + hexa\n",
    "                desimal3 //= 16\n",
    "            print(f'Hexa untuk {karakter} = {hexa}')\n",
    "            output.write(f'Hexa untuk {karakter} = {hexa}\\n')\n",
    "            print('-' * 20 + '\\n')\n",
    "            output.write('-' * 20 + '\\n')  # Separator between characters\n",
    "\n",
    "\n",
    "            \n",
    "karakter_input = input('Nama: ')\n",
    "ruang = input('Ruang: ')\n",
    "skema = input('Skema: ')\n",
    "\n",
    "output_file_path = 'source/handling.txt'\n",
    "konversi_karakter(karakter_input,ruang,skema, output_file_path)\n",
    "print(f'Hasil konversi telah disimpan di {output_file_path}')\n"
   ]
  },
  {
   "cell_type": "code",
   "execution_count": 24,
   "id": "6d1165be",
   "metadata": {},
   "outputs": [
    {
     "name": "stdout",
     "output_type": "stream",
     "text": [
      "[(1, 'PENELOPE', 'GUINESS', datetime.datetime(2006, 2, 15, 4, 34, 33)), (2, 'NICK', 'WAHLBERG', datetime.datetime(2006, 2, 15, 4, 34, 33)), (3, 'ED', 'CHASE', datetime.datetime(2006, 2, 15, 4, 34, 33)), (4, 'JENNIFER', 'DAVIS', datetime.datetime(2006, 2, 15, 4, 34, 33)), (5, 'JOHNNY', 'LOLLOBRIGIDA', datetime.datetime(2006, 2, 15, 4, 34, 33))]\n"
     ]
    }
   ],
   "source": [
    "#TUGAS 1 tampil tidak rapih\n",
    "import mysql.connector\n",
    "\n",
    "mydb = mysql.connector.connect(\n",
    "    host=\"localhost\",\n",
    "    user=\"root\",\n",
    "    password=\"warmad123\",\n",
    "    database=\"sakila\"\n",
    ")\n",
    "\n",
    "mycursor=mysql.connector.connect(\n",
    "    host='localhost',\n",
    "    user='root',\n",
    "    password='warmad123',\n",
    "    database='sakila'\n",
    ")\n",
    "\n",
    "mycursor=mydb.cursor()\n",
    "\n",
    "mycursor.execute('select * from actor limit 5')\n",
    "myresult=mycursor.fetchall()\n",
    "\n",
    "print(myresult)"
   ]
  },
  {
   "cell_type": "code",
   "execution_count": 21,
   "id": "5e46c3e7",
   "metadata": {},
   "outputs": [
    {
     "name": "stdout",
     "output_type": "stream",
     "text": [
      "     0          1             2                   3\n",
      "0    1   PENELOPE       GUINESS 2006-02-15 04:34:33\n",
      "1    2       NICK      WAHLBERG 2006-02-15 04:34:33\n",
      "2    3         ED         CHASE 2006-02-15 04:34:33\n",
      "3    4   JENNIFER         DAVIS 2006-02-15 04:34:33\n",
      "4    5     JOHNNY  LOLLOBRIGIDA 2006-02-15 04:34:33\n",
      "5    6      BETTE     NICHOLSON 2006-02-15 04:34:33\n",
      "6    7      GRACE        MOSTEL 2006-02-15 04:34:33\n",
      "7    8    MATTHEW     JOHANSSON 2006-02-15 04:34:33\n",
      "8    9        JOE         SWANK 2006-02-15 04:34:33\n",
      "9   10  CHRISTIAN         GABLE 2006-02-15 04:34:33\n",
      "10  11       ZERO          CAGE 2006-02-15 04:34:33\n",
      "11  12       KARL         BERRY 2006-02-15 04:34:33\n",
      "12  13        UMA          WOOD 2006-02-15 04:34:33\n",
      "13  14     VIVIEN        BERGEN 2006-02-15 04:34:33\n",
      "14  15       CUBA       OLIVIER 2006-02-15 04:34:33\n",
      "15  16       FRED       COSTNER 2006-02-15 04:34:33\n",
      "16  17      HELEN        VOIGHT 2006-02-15 04:34:33\n",
      "17  18        DAN          TORN 2006-02-15 04:34:33\n",
      "18  19        BOB       FAWCETT 2006-02-15 04:34:33\n",
      "19  20    LUCILLE         TRACY 2006-02-15 04:34:33\n",
      "20  21    KIRSTEN       PALTROW 2006-02-15 04:34:33\n",
      "21  22      ELVIS          MARX 2006-02-15 04:34:33\n",
      "22  23     SANDRA        KILMER 2006-02-15 04:34:33\n",
      "23  24    CAMERON        STREEP 2006-02-15 04:34:33\n",
      "24  25      KEVIN         BLOOM 2006-02-15 04:34:33\n",
      "25  26        RIP      CRAWFORD 2006-02-15 04:34:33\n",
      "26  27      JULIA       MCQUEEN 2006-02-15 04:34:33\n",
      "27  28      WOODY       HOFFMAN 2006-02-15 04:34:33\n",
      "28  29       ALEC         WAYNE 2006-02-15 04:34:33\n",
      "29  30     SANDRA          PECK 2006-02-15 04:34:33\n"
     ]
    }
   ],
   "source": [
    "#TUGAS 2 Tampil rapih menggunakan pandas\n",
    "\n",
    "import mysql.connector\n",
    "import pandas as pd\n",
    "\n",
    "\n",
    "mydb = mysql.connector.connect(\n",
    "    host=\"localhost\",\n",
    "    user=\"root\",\n",
    "    password=\"warmad123\",\n",
    "    database=\"sakila\"\n",
    ")\n",
    "\n",
    "mycursor = mydb.cursor()\n",
    "\n",
    "# Inserting data into 'divisi'\n",
    "# mycursor.execute(\"insert into divisi values ('190','232','Bakawan')\")\n",
    "# mydb.commit()\n",
    "\n",
    "mycursor.execute('SELECT * FROM actor')\n",
    "myresult = mycursor.fetchall()\n",
    "# print(myresult)\n",
    "# Close cursor and connection\n",
    "df = pd.DataFrame(myresult, colums=columns).head(30)\n",
    "print(df)\n",
    "mycursor.close()\n",
    "mydb.close()\n"
   ]
  },
  {
   "cell_type": "code",
   "execution_count": 44,
   "id": "cb831870",
   "metadata": {},
   "outputs": [
    {
     "name": "stdout",
     "output_type": "stream",
     "text": [
      "     actor_id first_name last_name         last_update\n",
      "197       198       MARY    KEITEL 2006-02-15 04:34:33\n",
      "198       199      JULIA   FAWCETT 2006-02-15 04:34:33\n",
      "199       200      THORA    TEMPLE 2006-02-15 04:34:33\n",
      "200       204    Kritian   Girsang 2024-02-02 13:50:38\n",
      "201       205     Fadeli       Dwi 2024-02-02 14:05:56\n"
     ]
    }
   ],
   "source": [
    "#TUGAS 3 Insert \n",
    "import mysql.connector\n",
    "import pandas as pd\n",
    "\n",
    "\n",
    "mydb = mysql.connector.connect(\n",
    "    host=\"localhost\",\n",
    "    user=\"root\",\n",
    "    password=\"warmad123\",\n",
    "    database=\"sakila\"\n",
    ")\n",
    "\n",
    "mycursor = mydb.cursor()\n",
    "mycursor.execute(\"insert into actor (first_name, last_name) values ('Fadeli','Dwi')\")\n",
    "\n",
    "mydb.commit()\n",
    "\n",
    "mycursor.execute('SELECT * FROM actor')\n",
    "myresult = mycursor.fetchall()\n",
    "# print(myresult)\n",
    "# Close cursor and connection\n",
    "\n",
    "columns = []\n",
    "for asc in mycursor.description:\n",
    "    columns.append(asc[0])\n",
    "    \n",
    "# print('\\nHEAD DATA')\n",
    "df = pd.DataFrame(myresult, columns=columns).tail(5)\n",
    "print(df)\n",
    "mycursor.close()\n",
    "mydb.close()"
   ]
  },
  {
   "cell_type": "code",
   "execution_count": 69,
   "id": "ba5a3bf5",
   "metadata": {},
   "outputs": [
    {
     "name": "stdout",
     "output_type": "stream",
     "text": [
      "     actor_id first_name     last_name         last_update\n",
      "0           1   PENELOPE       GUINESS 2006-02-15 04:34:33\n",
      "1           2       NICK      WAHLBERG 2006-02-15 04:34:33\n",
      "2           3         ED         CHASE 2006-02-15 04:34:33\n",
      "3           4   JENNIFER         DAVIS 2006-02-15 04:34:33\n",
      "4           5     JOHNNY  LOLLOBRIGIDA 2006-02-15 04:34:33\n",
      "..        ...        ...           ...                 ...\n",
      "199       200      THORA        TEMPLE 2006-02-15 04:34:33\n",
      "200       204    Kritian       Girsang 2024-02-02 13:50:38\n",
      "201       205     Fadeli           Dwi 2024-02-02 14:05:56\n",
      "202       206      Dimas         akbar 2024-02-02 14:14:29\n",
      "203       207      Akbar        Faisal 2024-02-02 14:19:54\n",
      "\n",
      "[204 rows x 4 columns]\n"
     ]
    }
   ],
   "source": [
    "#TUGAS 4 Update \n",
    "import mysql.connector\n",
    "import pandas as pd\n",
    "\n",
    "\n",
    "mydb = mysql.connector.connect(\n",
    "    host=\"localhost\",\n",
    "    user=\"root\",\n",
    "    password=\"warmad123\",\n",
    "    database=\"sakila\"\n",
    ")\n",
    "\n",
    "mycursor = mydb.cursor()\n",
    "mycursor.execute(\"update actor set last_name='Dwi' where actor_id=201 \")\n",
    "mydb.commit()\n",
    "\n",
    "mycursor.execute('SELECT * FROM actor')\n",
    "myresult = mycursor.fetchall()\n",
    "\n",
    "columns = []\n",
    "for asc in mycursor.description:\n",
    "    columns.append(asc[0])\n",
    "    \n",
    "\n",
    "df = pd.DataFrame(myresult, columns=columns)\n",
    "print(df)\n",
    "mycursor.close()\n",
    "mydb.close()"
   ]
  },
  {
   "cell_type": "code",
   "execution_count": 105,
   "id": "07d3e726",
   "metadata": {},
   "outputs": [],
   "source": [
    "#Tugas 5 delete \n",
    "import mysql.connector\n",
    "import pandas as pd\n",
    "\n",
    "def query(sql,angka):\n",
    "    mydb = mysql.connector.connect(\n",
    "        host=\"localhost\",\n",
    "        user=\"root\",\n",
    "        password=\"warmad123\",\n",
    "        database=\"sakila\"\n",
    "    )\n",
    "    mycursor = mydb.cursor()\n",
    "    mycursor.execute(sql)\n",
    "#     mydb.commit()\n",
    "\n",
    "#     mycursor.execute('SELECT * FROM actor')\n",
    "    myresult = mycursor.fetchall()\n",
    "\n",
    "    columns = []\n",
    "    for asc in mycursor.description:\n",
    "        columns.append(asc[0])\n",
    "\n",
    "\n",
    "    df = pd.DataFrame(myresult, columns=columns).tail(int(angka))\n",
    "    print(df)\n",
    "    mycursor.close()\n",
    "    mydb.close()\n"
   ]
  },
  {
   "cell_type": "code",
   "execution_count": 57,
   "id": "72ffbf64",
   "metadata": {
    "scrolled": true
   },
   "outputs": [
    {
     "name": "stdout",
     "output_type": "stream",
     "text": [
      "     actor_id first_name last_name         last_update\n",
      "200       204    Kritian   Girsang 2024-02-02 13:50:38\n",
      "201       205     Fadeli       Dwi 2024-02-02 14:05:56\n",
      "202       206      Dimas     akbar 2024-02-02 14:14:29\n",
      "203       207      Akbar    Faisal 2024-02-02 14:19:54\n"
     ]
    }
   ],
   "source": [
    "querys= \"insert into actor (first_name, last_name) values ('Akbar','Faisal')\"\n",
    "query(querys,4) "
   ]
  },
  {
   "cell_type": "code",
   "execution_count": 55,
   "id": "b31f4a9f",
   "metadata": {},
   "outputs": [
    {
     "data": {
      "text/plain": [
       "actor_id                int64\n",
       "first_name             object\n",
       "last_name              object\n",
       "last_update    datetime64[ns]\n",
       "dtype: object"
      ]
     },
     "execution_count": 55,
     "metadata": {},
     "output_type": "execute_result"
    }
   ],
   "source": [
    "df.dtypes"
   ]
  },
  {
   "cell_type": "code",
   "execution_count": 56,
   "id": "f14d95fa",
   "metadata": {
    "scrolled": true
   },
   "outputs": [
    {
     "data": {
      "text/plain": [
       "actor_id       5\n",
       "first_name     5\n",
       "last_name      5\n",
       "last_update    3\n",
       "dtype: int64"
      ]
     },
     "execution_count": 56,
     "metadata": {},
     "output_type": "execute_result"
    }
   ],
   "source": [
    "df.nunique()"
   ]
  },
  {
   "cell_type": "code",
   "execution_count": 58,
   "id": "fda536ee",
   "metadata": {},
   "outputs": [
    {
     "data": {
      "text/plain": [
       "198    1\n",
       "199    1\n",
       "200    1\n",
       "204    1\n",
       "205    1\n",
       "Name: actor_id, dtype: int64"
      ]
     },
     "execution_count": 58,
     "metadata": {},
     "output_type": "execute_result"
    }
   ],
   "source": [
    "df['actor_id'].value_counts()"
   ]
  },
  {
   "cell_type": "code",
   "execution_count": 60,
   "id": "65b34f00",
   "metadata": {
    "scrolled": true
   },
   "outputs": [
    {
     "data": {
      "text/plain": [
       "MARY       1\n",
       "JULIA      1\n",
       "THORA      1\n",
       "Kritian    1\n",
       "Fadeli     1\n",
       "Name: first_name, dtype: int64"
      ]
     },
     "execution_count": 60,
     "metadata": {},
     "output_type": "execute_result"
    }
   ],
   "source": [
    "df['first_name'].value_counts()"
   ]
  },
  {
   "cell_type": "code",
   "execution_count": 72,
   "id": "323470f0",
   "metadata": {},
   "outputs": [
    {
     "data": {
      "text/plain": [
       "actor_id       0\n",
       "first_name     0\n",
       "last_name      0\n",
       "last_update    0\n",
       "dtype: int64"
      ]
     },
     "execution_count": 72,
     "metadata": {},
     "output_type": "execute_result"
    }
   ],
   "source": [
    "df.isnull().sum()"
   ]
  },
  {
   "cell_type": "code",
   "execution_count": 61,
   "id": "6b61fe5b",
   "metadata": {},
   "outputs": [
    {
     "data": {
      "text/html": [
       "<div>\n",
       "<style scoped>\n",
       "    .dataframe tbody tr th:only-of-type {\n",
       "        vertical-align: middle;\n",
       "    }\n",
       "\n",
       "    .dataframe tbody tr th {\n",
       "        vertical-align: top;\n",
       "    }\n",
       "\n",
       "    .dataframe thead th {\n",
       "        text-align: right;\n",
       "    }\n",
       "</style>\n",
       "<table border=\"1\" class=\"dataframe\">\n",
       "  <thead>\n",
       "    <tr style=\"text-align: right;\">\n",
       "      <th></th>\n",
       "      <th>actor_id</th>\n",
       "      <th>first_name</th>\n",
       "      <th>last_name</th>\n",
       "      <th>last_update</th>\n",
       "    </tr>\n",
       "  </thead>\n",
       "  <tbody>\n",
       "    <tr>\n",
       "      <th>197</th>\n",
       "      <td>False</td>\n",
       "      <td>False</td>\n",
       "      <td>False</td>\n",
       "      <td>False</td>\n",
       "    </tr>\n",
       "    <tr>\n",
       "      <th>198</th>\n",
       "      <td>False</td>\n",
       "      <td>False</td>\n",
       "      <td>False</td>\n",
       "      <td>False</td>\n",
       "    </tr>\n",
       "    <tr>\n",
       "      <th>199</th>\n",
       "      <td>False</td>\n",
       "      <td>False</td>\n",
       "      <td>False</td>\n",
       "      <td>False</td>\n",
       "    </tr>\n",
       "    <tr>\n",
       "      <th>200</th>\n",
       "      <td>False</td>\n",
       "      <td>False</td>\n",
       "      <td>False</td>\n",
       "      <td>False</td>\n",
       "    </tr>\n",
       "    <tr>\n",
       "      <th>201</th>\n",
       "      <td>False</td>\n",
       "      <td>False</td>\n",
       "      <td>False</td>\n",
       "      <td>False</td>\n",
       "    </tr>\n",
       "  </tbody>\n",
       "</table>\n",
       "</div>"
      ],
      "text/plain": [
       "     actor_id  first_name  last_name  last_update\n",
       "197     False       False      False        False\n",
       "198     False       False      False        False\n",
       "199     False       False      False        False\n",
       "200     False       False      False        False\n",
       "201     False       False      False        False"
      ]
     },
     "execution_count": 61,
     "metadata": {},
     "output_type": "execute_result"
    }
   ],
   "source": [
    "df.isnull()"
   ]
  },
  {
   "cell_type": "code",
   "execution_count": 70,
   "id": "4e14194b",
   "metadata": {},
   "outputs": [
    {
     "data": {
      "text/plain": [
       "(204, 4)"
      ]
     },
     "execution_count": 70,
     "metadata": {},
     "output_type": "execute_result"
    }
   ],
   "source": [
    "df.shape"
   ]
  },
  {
   "cell_type": "code",
   "execution_count": 4,
   "id": "da896038",
   "metadata": {},
   "outputs": [],
   "source": [
    "#Tugas 5 delete \n",
    "import mysql.connector\n",
    "import pandas as pd\n",
    "\n",
    "def query(sql):\n",
    "    mydb = mysql.connector.connect(\n",
    "        host=\"localhost\",\n",
    "        user=\"root\",\n",
    "        password=\"warmad123\",\n",
    "        database=\"sakila\"\n",
    "    )\n",
    "    mycursor = mydb.cursor()\n",
    "    mycursor.execute(sql)\n",
    "#     mydb.commit()\n",
    "\n",
    "#     mycursor.execute('SELECT * FROM actor')\n",
    "    myresult = mycursor.fetchall()\n",
    "\n",
    "    columns = []\n",
    "    for asc in mycursor.description:\n",
    "        columns.append(asc[0])\n",
    "\n",
    "\n",
    "    df = pd.DataFrame(myresult, columns=columns)\n",
    "    print(df)\n",
    "    mycursor.close()\n",
    "    mydb.close()\n"
   ]
  },
  {
   "cell_type": "code",
   "execution_count": 8,
   "id": "df3d0373",
   "metadata": {
    "scrolled": true
   },
   "outputs": [
    {
     "name": "stdout",
     "output_type": "stream",
     "text": [
      "     city_id                  city                               address\n",
      "0          1  A Coruña (La Coruña)                  939 Probolinggo Loop\n",
      "1          2                  Abha                 733 Mandaluyong Place\n",
      "2          3             Abu Dhabi                  535 Ahmadnagar Manor\n",
      "3          4                 Acuña              1789 Saint-Denis Parkway\n",
      "4          5                 Adana              663 Bahía Blanca Parkway\n",
      "..       ...                   ...                                   ...\n",
      "598      596                 Zaria                     885 Yingkou Manor\n",
      "599      597          Zeleznogorsk                       1378 Beira Loop\n",
      "600      598           Zhezqazghan  521 San Juan Bautista Tuxtepec Place\n",
      "601      599              Zhoushan                   346 Cam Ranh Avenue\n",
      "602      600            Ziguinchor                     1889 Valparai Way\n",
      "\n",
      "[603 rows x 3 columns]\n"
     ]
    }
   ],
   "source": [
    "querys=\"select city.city_id,city,address from city inner join address on city.city_id = address.city_id order by city.city_id asc\"\n",
    "df1=query(querys)"
   ]
  },
  {
   "cell_type": "code",
   "execution_count": 10,
   "id": "e1e13c9b",
   "metadata": {},
   "outputs": [
    {
     "ename": "AttributeError",
     "evalue": "'NoneType' object has no attribute 'loc'",
     "output_type": "error",
     "traceback": [
      "\u001b[0;31m---------------------------------------------------------------------------\u001b[0m",
      "\u001b[0;31mAttributeError\u001b[0m                            Traceback (most recent call last)",
      "Cell \u001b[0;32mIn[10], line 1\u001b[0m\n\u001b[0;32m----> 1\u001b[0m \u001b[38;5;28mprint\u001b[39m(\u001b[43mdf1\u001b[49m\u001b[38;5;241;43m.\u001b[39;49m\u001b[43mloc\u001b[49m[df[\u001b[38;5;124m'\u001b[39m\u001b[38;5;124mcity_id\u001b[39m\u001b[38;5;124m'\u001b[39m]\u001b[38;5;241m==\u001b[39mn,[\u001b[38;5;124m'\u001b[39m\u001b[38;5;124mcity\u001b[39m\u001b[38;5;124m'\u001b[39m]])\n",
      "\u001b[0;31mAttributeError\u001b[0m: 'NoneType' object has no attribute 'loc'"
     ]
    }
   ],
   "source": [
    "\n",
    "print(df1.loc[df['city_id']==n,['city']])"
   ]
  },
  {
   "cell_type": "code",
   "execution_count": 131,
   "id": "8c5de44c",
   "metadata": {},
   "outputs": [
    {
     "name": "stdout",
     "output_type": "stream",
     "text": [
      "     city_id                  city                               address\n",
      "0          1  A Coruña (La Coruña)                  939 Probolinggo Loop\n",
      "1          2                  Abha                 733 Mandaluyong Place\n",
      "2          3             Abu Dhabi                  535 Ahmadnagar Manor\n",
      "3          4                 Acuña              1789 Saint-Denis Parkway\n",
      "4          5                 Adana              663 Bahía Blanca Parkway\n",
      "..       ...                   ...                                   ...\n",
      "598      596                 Zaria                     885 Yingkou Manor\n",
      "599      597          Zeleznogorsk                       1378 Beira Loop\n",
      "600      598           Zhezqazghan  521 San Juan Bautista Tuxtepec Place\n",
      "601      599              Zhoushan                   346 Cam Ranh Avenue\n",
      "602      600            Ziguinchor                     1889 Valparai Way\n",
      "\n",
      "[603 rows x 3 columns]\n"
     ]
    }
   ],
   "source": [
    "#TUGAS SORE\n",
    "\n",
    "mydb = mysql.connector.connect(\n",
    "        host=\"localhost\",\n",
    "        user=\"root\",\n",
    "        password=\"warmad123\",\n",
    "        database=\"sakila\"\n",
    ")\n",
    "mycursor = mydb.cursor()\n",
    "mycursor.execute(\"select city.city_id,city,address from city inner join address on city.city_id = address.city_id order by city.city_id asc\")\n",
    "myresult = mycursor.fetchall()\n",
    "\n",
    "columns = []\n",
    "for asc in mycursor.description:\n",
    "    columns.append(asc[0])\n",
    "\n",
    "\n",
    "df = pd.DataFrame(myresult, columns=columns)\n",
    "print(df)\n",
    "mycursor.close()\n",
    "mydb.close()\n"
   ]
  },
  {
   "cell_type": "code",
   "execution_count": 138,
   "id": "7d346be0",
   "metadata": {},
   "outputs": [
    {
     "name": "stdout",
     "output_type": "stream",
     "text": [
      "                   city               address\n",
      "0  A Coruña (La Coruña)  939 Probolinggo Loop\n",
      "   city                address\n",
      "1  Abha  733 Mandaluyong Place\n",
      "        city               address\n",
      "2  Abu Dhabi  535 Ahmadnagar Manor\n",
      "    city                   address\n",
      "3  Acuña  1789 Saint-Denis Parkway\n",
      "    city                   address\n",
      "4  Adana  663 Bahía Blanca Parkway\n",
      "          city              address\n",
      "5  Addis Abeba  614 Pak Kret Street\n",
      "   city        address\n",
      "6  Aden  751 Lima Loop\n",
      "    city          address\n",
      "7  Adoni  230 Urawa Drive\n",
      "         city              address\n",
      "8  Ahmadnagar  922 Vila Velha Loop\n",
      "       city                address\n",
      "9  Akishima  923 Tangail Boulevard\n",
      "     city                 address\n",
      "10  Akron  98 Pyongyang Boulevard\n",
      "      city             address\n",
      "11  al-Ayn  669 Firozabad Loop\n",
      "         city                  address\n",
      "12  al-Hawiya  1124 Buenaventura Drive\n",
      "         city                 address\n",
      "13  al-Manama  1759 Niznekamsk Avenue\n",
      "          city                    address\n",
      "14  al-Qadarif  1152 Citrus Heights Manor\n",
      "        city                address\n",
      "15  al-Qatif  289 Santo André Manor\n",
      "           city                    address\n",
      "16  Alessandria  127 Purnea (Purnia) Manor\n",
      "                     city               address\n",
      "17  Allappuzha (Alleppey)  431 Xi´angtan Avenue\n",
      "       city               address\n",
      "18  Allende  397 Sunnyvale Avenue\n",
      "               city               address\n",
      "19  Almirante Brown  1623 Kingstown Drive\n",
      "        city                     address\n",
      "20  Alvorada  1407 Pachuca de Soto Place\n",
      "        city          address\n",
      "21  Ambattur  1014 Loja Manor\n",
      "          city              address\n",
      "22  Amersfoort  992 Klerksdorp Loop\n",
      "      city           address\n",
      "23  Amroha  949 Allende Lane\n",
      "              city             address\n",
      "24  Angra dos Reis  1354 Siegen Street\n",
      "        city            address\n",
      "25  Anápolis  356 Olomouc Manor\n",
      "           city               address\n",
      "26  Antofagasta  1718 Valencia Street\n",
      "                    city             address\n",
      "27  Aparecida de Goiânia  1201 Qomsheh Manor\n",
      "         city            address\n",
      "28  Apeldoorn  1749 Daxian Place\n",
      "         city        address\n",
      "29  Araçatuba  1692 Ede Loop\n",
      "    city                    address\n",
      "30  Arak  334 Munger (Monghyr) Lane\n",
      "       city             address\n",
      "31  Arecibo  1009 Zanzibar Lane\n",
      "         city                           address\n",
      "32  Arlington  913 Coacalco de Berriozábal Loop\n",
      "      city          address\n",
      "33  Ashdod  659 Vaduz Drive\n",
      "        city               address\n",
      "34  Ashgabat  387 Mwene-Ditu Drive\n",
      "        city                        address\n",
      "35  Ashqelon  632 Usolje-Sibirskoje Parkway\n",
      "        city               address\n",
      "36  Asunción  201 Effon-Alaiye Way\n",
      "       city            address\n",
      "37  Athenai  692 Joliet Street\n",
      "       city             address\n",
      "38  Atšinsk  616 Hagonoy Avenue\n",
      "       city                           address\n",
      "39  Atlixco  125 Città del Vaticano Boulevard\n",
      "                       city           address\n",
      "40  Augusta-Richmond County  1308 Arecibo Way\n",
      "      city             address\n",
      "41  Aurora  587 Benguela Manor\n",
      "42  Aurora    43 Vilnius Manor\n",
      "          city                        address\n",
      "43  Avellaneda  1229 Varanasi (Benares) Manor\n",
      "    city       address\n",
      "44  Bagé  1190 0 Place\n",
      "            city                          address\n",
      "45  Bahía Blanca  1427 A Coruña (La Coruña) Place\n",
      "        city              address\n",
      "46  Baicheng  183 Haiphong Street\n",
      "      city          address\n",
      "47  Baiyin  362 Rajkot Lane\n",
      "    city                    address\n",
      "48  Baku  431 Székesfehérvár Avenue\n",
      "        city                            address\n",
      "49  Balašiha  1697 Kowloon and New Kowloon Loop\n",
      "         city              address\n",
      "50  Balikesir  1912 Emeishan Drive\n",
      "         city               address\n",
      "51  Balurghat  624 Oshawa Boulevard\n",
      "       city              address\n",
      "52  Bamenda  1641 Changhwa Place\n",
      "                   city              address\n",
      "53  Bandar Seri Begawan  1370 Le Mans Avenue\n",
      "      city             address\n",
      "54  Banjul  247 Jining Parkway\n",
      "         city                      address\n",
      "55  Barcelona  502 Mandi Bahauddin Parkway\n",
      "     city          address\n",
      "56  Basel  915 Ponce Place\n",
      "       city                    address\n",
      "57  Bat Yam  1542 Lubumbashi Boulevard\n",
      "      city            address\n",
      "58  Batman  29 Pyongyang Loop\n",
      "     city                 address\n",
      "59  Batna  1924 Shimonoseki Drive\n"
     ]
    }
   ],
   "source": [
    "n=1\n",
    "while n<60:\n",
    "    selected=df.loc[df['city_id'] == n, ['city', 'address']]\n",
    "    print(selected)\n",
    "    n=n+1"
   ]
  },
  {
   "cell_type": "code",
   "execution_count": 18,
   "id": "d8aaccd0",
   "metadata": {},
   "outputs": [],
   "source": [
    "# FUNGSI UNTUK DIPANGGIL\n",
    "def execute_query(query):\n",
    "    mydb = mysql.connector.connect(\n",
    "        host=\"localhost\",\n",
    "        user=\"root\",\n",
    "        password=\"warmad123\",\n",
    "        database=\"sakila\"\n",
    "    )\n",
    "    mycursor = mydb.cursor()\n",
    "    mycursor.execute(query)\n",
    "    result = mycursor.fetchall()\n",
    "    \n",
    "    columns = []\n",
    "    for asc in mycursor.description:\n",
    "        columns.append(asc[0])\n",
    "\n",
    "    df = pd.DataFrame(result, columns=columns)\n",
    "    mycursor.close()\n",
    "    mydb.close()\n",
    "    return df\n",
    "\n",
    "def print_selected_data(df):\n",
    "    n = 1\n",
    "    while n < 60:\n",
    "        selected = df.loc[df['city_id'] == n, ['city', 'address']]\n",
    "        print(selected)\n",
    "        n += 1\n"
   ]
  },
  {
   "cell_type": "code",
   "execution_count": 20,
   "id": "eed4faf6",
   "metadata": {},
   "outputs": [],
   "source": [
    "# df=execute_query(\"select city.city_id,city,address from city inner join address on city.city_id = address.city_id order by city.city_id asc\")\n",
    "df=execute_query(\"select * from actor\")\n",
    "print()\n",
    "\n",
    "# print_selected_data(df)"
   ]
  }
 ],
 "metadata": {
  "kernelspec": {
   "display_name": "Python 3 (ipykernel)",
   "language": "python",
   "name": "python3"
  },
  "language_info": {
   "codemirror_mode": {
    "name": "ipython",
    "version": 3
   },
   "file_extension": ".py",
   "mimetype": "text/x-python",
   "name": "python",
   "nbconvert_exporter": "python",
   "pygments_lexer": "ipython3",
   "version": "3.10.5"
  }
 },
 "nbformat": 4,
 "nbformat_minor": 5
}
