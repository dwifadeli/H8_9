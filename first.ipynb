{
 "cells": [
  {
   "cell_type": "code",
   "execution_count": 5,
   "id": "b20e69a9",
   "metadata": {},
   "outputs": [
    {
     "name": "stdout",
     "output_type": "stream",
     "text": [
      "<class 'float'>\n"
     ]
    }
   ],
   "source": [
    "print (type(10.8))"
   ]
  },
  {
   "cell_type": "markdown",
   "id": "318a1378",
   "metadata": {},
   "source": [
    "matematika : 5+1\n",
    "print (matermatika)"
   ]
  },
  {
   "cell_type": "code",
   "execution_count": 7,
   "id": "bf5d4ffb",
   "metadata": {},
   "outputs": [
    {
     "name": "stdout",
     "output_type": "stream",
     "text": [
      "<class 'bool'>\n"
     ]
    }
   ],
   "source": [
    "print (type(True))"
   ]
  },
  {
   "cell_type": "code",
   "execution_count": 10,
   "id": "e8edc980",
   "metadata": {},
   "outputs": [
    {
     "name": "stdout",
     "output_type": "stream",
     "text": [
      "1223\n"
     ]
    }
   ],
   "source": [
    "matematika='1223'\n",
    "print (matematika)"
   ]
  },
  {
   "cell_type": "code",
   "execution_count": 11,
   "id": "3b163af6",
   "metadata": {},
   "outputs": [
    {
     "name": "stdout",
     "output_type": "stream",
     "text": [
      "Hacktive8\n"
     ]
    }
   ],
   "source": [
    "nama = \"Hacktive\"\n",
    "nat= \"8\"\n",
    "print (nama + nat)"
   ]
  },
  {
   "cell_type": "code",
   "execution_count": 3,
   "id": "60d84b8d",
   "metadata": {},
   "outputs": [
    {
     "name": "stdout",
     "output_type": "stream",
     "text": [
      "Fadelii\n",
      "fAdELii\n",
      "fadelii\n"
     ]
    }
   ],
   "source": [
    "s='FaDelII'\n",
    "print (s.capitalize())\n",
    "print (s.swapcase())\n",
    "print (s.lower())"
   ]
  },
  {
   "cell_type": "code",
   "execution_count": 6,
   "id": "7215bb83",
   "metadata": {},
   "outputs": [
    {
     "name": "stdout",
     "output_type": "stream",
     "text": [
      "foo\n",
      "foo\n"
     ]
    }
   ],
   "source": [
    "(s1, s2, s3, s4) = ('foo', 'bar', 'baz', 'qux')\n",
    "print (s1)\n",
    "\n",
    "(s1, s2, s3, s4) = ['foo', 'bar', 'baz', 'qux']\n",
    "print (s1)"
   ]
  },
  {
   "cell_type": "code",
   "execution_count": 7,
   "id": "5eb4b11b",
   "metadata": {},
   "outputs": [
    {
     "name": "stdout",
     "output_type": "stream",
     "text": [
      "[1, 2, 3, 4, 5]\n",
      "(1, 2, 3, 4)\n"
     ]
    }
   ],
   "source": [
    "# Perbedaan tuples dengan list\n",
    "#List\n",
    "my_list = [1, 2, 3, 4]\n",
    "my_list.append(5) #-> ini digunakan untuk menambahkan list\n",
    "print(my_list)\n",
    "\n",
    "#tuple\n",
    "my_tuple = (1, 2, 3, 4)\n",
    "# my_tuple[0] = 5  # Ini akan menghasilkan error karena tuple bersifat immutable\n",
    "print(my_tuple)\n"
   ]
  },
  {
   "cell_type": "code",
   "execution_count": 9,
   "id": "3bc0ccc7",
   "metadata": {},
   "outputs": [
    {
     "name": "stdout",
     "output_type": "stream",
     "text": [
      "Fadeli\n",
      "23\n",
      "BFLP\n",
      "{'nama': 'Fadeli', 'umur': 23, 'pekerjaan': 'BFLP', 'lokasi': 'Jakarta'}\n"
     ]
    }
   ],
   "source": [
    "# Membuat dictionary\n",
    "my_dict = {'nama':'Fadeli', 'umur' : 23,'pekerjaan':'BFLP'}\n",
    "\n",
    "# Mengakses nilai berdasarkan kunci\n",
    "print(my_dict['nama'])\n",
    "print(my_dict['umur'])\n",
    "print(my_dict['pekerjaan'])\n",
    "\n",
    "# Menambahkan elemen ke dalam dictionary\n",
    "my_dict['lokasi'] = 'Jakarta'\n",
    "print(my_dict)\n",
    "\n"
   ]
  },
  {
   "cell_type": "code",
   "execution_count": 21,
   "id": "61b19ac2",
   "metadata": {},
   "outputs": [
    {
     "name": "stdout",
     "output_type": "stream",
     "text": [
      "3\n",
      "betul\n"
     ]
    }
   ],
   "source": [
    "#CASE 1 -> Jika a lebih besar dari c cetak nilai A, dan jika a lebih kecil dari b cetak betul\n",
    "\n",
    "a=3 \n",
    "b=4 \n",
    "c=1\n",
    "\n",
    "if a>c:\n",
    "    print (a)\n",
    "if a<b:\n",
    "    print ('betul')\n",
    "else:\n",
    "    print ('kemerdekaan adalah hak segala bangsa')"
   ]
  },
  {
   "cell_type": "code",
   "execution_count": 29,
   "id": "5d9629f8",
   "metadata": {},
   "outputs": [
    {
     "name": "stdout",
     "output_type": "stream",
     "text": [
      "tampil or\n",
      "Enggak\n"
     ]
    }
   ],
   "source": [
    "#Case 2 -> jika A lebih besar dar B dan lebih besar dari C tampilkan \"tampil\"\n",
    "\n",
    "if (a>b) | (a>c):\n",
    "    print('tampil or')\n",
    "if (a>b) & (a>c):\n",
    "    print('tampil and')\n",
    "else:\n",
    "    print('Enggak')"
   ]
  },
  {
   "cell_type": "code",
   "execution_count": 33,
   "id": "b65cd720",
   "metadata": {},
   "outputs": [
    {
     "name": "stdout",
     "output_type": "stream",
     "text": [
      "saya tidak pergi karena banjir\n",
      "saya tetap pergi karena banjir\n"
     ]
    }
   ],
   "source": [
    "sistem=['saya','pergi','ke','LPPI','kemang']\n",
    "engineer=['tidak','jalan','karena','banjir']\n",
    "print (\n",
    "sistem[0],engineer[0],sistem[1],engineer[2],engineer[3]\n",
    ")\n",
    "\n",
    "engineer[0]='tetap'\n",
    "print (\n",
    "sistem[0],engineer[0],sistem[1],engineer[2],engineer[3]\n",
    ")"
   ]
  },
  {
   "cell_type": "code",
   "execution_count": 3,
   "id": "c5ecec68",
   "metadata": {},
   "outputs": [
    {
     "name": "stdout",
     "output_type": "stream",
     "text": [
      "false\n"
     ]
    }
   ],
   "source": [
    "a=6\n",
    "b=7\n",
    "c=8\n",
    "if (c>a):\n",
    "    if (b>c):\n",
    "        print('true')\n",
    "    else:\n",
    "        print('false')\n",
    "else:\n",
    "    print('error')"
   ]
  },
  {
   "cell_type": "code",
   "execution_count": 9,
   "id": "85c6394a",
   "metadata": {},
   "outputs": [
    {
     "name": "stdout",
     "output_type": "stream",
     "text": [
      "{'nama': 'nama1', 'nilaiA': 80, 'nilaiB': 70, 'total': 150, 'keterangan': 'lulus'}\n",
      "{'nama': 'nama2', 'nilaiA': 55, 'nilaiB': 70, 'total': 125, 'keterangan': 'gagal'}\n",
      "{'nama': 'nama3', 'nilaiA': 80, 'nilaiB': 90, 'total': 170, 'keterangan': 'lulus'}\n",
      "{'nama': 'nama4', 'nilaiA': 75, 'nilaiB': 60, 'total': 135, 'keterangan': 'gagal'}\n",
      "{'nama': 'nama5', 'nilaiA': 90, 'nilaiB': 70, 'total': 160, 'keterangan': 'lulus'}\n"
     ]
    }
   ],
   "source": [
    "daftar_nama = [\n",
    "    {'nama': 'nama1', 'nilaiA': 80, 'nilaiB': 70},\n",
    "    {'nama': 'nama2', 'nilaiA': 55, 'nilaiB': 70},\n",
    "    {'nama': 'nama3', 'nilaiA': 80, 'nilaiB': 90},\n",
    "    {'nama': 'nama4', 'nilaiA': 75, 'nilaiB': 60},\n",
    "    {'nama': 'nama5', 'nilaiA': 90, 'nilaiB': 70}\n",
    "]\n",
    "for nama in daftar_nama:\n",
    "    if (nama['nilaiA'] <= 60) | (nama['nilaiB'] <= 60):\n",
    "        total=nama['nilaiA']+nama['nilaiB']\n",
    "        nama['total'] = total\n",
    "        \n",
    "        nama['keterangan'] = 'gagal'\n",
    "    else:\n",
    "        total=nama['nilaiA']+nama['nilaiB']\n",
    "        nama['total'] = total\n",
    "        \n",
    "        nama['keterangan'] = 'lulus'\n",
    "\n",
    "for nama in daftar_nama:\n",
    "    print(nama)\n",
    "    \n",
    "for nama in "
   ]
  },
  {
   "cell_type": "code",
   "execution_count": 2,
   "id": "aae9bc33",
   "metadata": {},
   "outputs": [
    {
     "name": "stdout",
     "output_type": "stream",
     "text": [
      "nama:Andi Hidayat\n",
      "nilai:50\n",
      "{'nama': 'Andi Hidayat'}\n"
     ]
    }
   ],
   "source": [
    "daftar_nilai={}\n",
    "nama = input('nama:')\n",
    "nilai = input ('nilai:')\n",
    "\n",
    "daftar_nilai['nama']=str(nama)\n",
    "print (daftar_nilai)"
   ]
  },
  {
   "cell_type": "code",
   "execution_count": 15,
   "id": "e3a69861",
   "metadata": {},
   "outputs": [
    {
     "name": "stdout",
     "output_type": "stream",
     "text": [
      "nama =Fadeli\n",
      "hobi =Basket\n",
      "email =dwifadeli11@gmail.com\n",
      "uts =70\n",
      "uas =90\n",
      "Lulus\n"
     ]
    }
   ],
   "source": [
    "list_nama={}\n",
    "list_nama['nama']=input('nama =')\n",
    "list_nama['hobi']=input('hobi =')\n",
    "list_nama['email']=input('email =')\n",
    "list_nama['uts']=int(input('uts ='))\n",
    "list_nama['uas']=int(input('uas ='))\n",
    "\n",
    "if ((list_nama['uts']<=60) or (list_nama['uas']<=60)) or (list_nama['uts'] + list_nama['uas'] <= 125):\n",
    "    list_nama['keterangan']='Gagal'\n",
    "else:\n",
    "    list_nama['keterangan']='Lulus'\n",
    "print(list_nama['keterangan'])"
   ]
  },
  {
   "cell_type": "code",
   "execution_count": 21,
   "id": "31800984",
   "metadata": {},
   "outputs": [
    {
     "name": "stdout",
     "output_type": "stream",
     "text": [
      "Desimal = 66\n",
      "Biner = 1000010\n",
      "Okta = 102\n",
      "Hexa = 42\n",
      "Desimal = 97\n",
      "Biner = 1100001\n",
      "Okta = 141\n",
      "Hexa = 61\n",
      "Desimal = 84\n",
      "Biner = 1010100\n",
      "Okta = 124\n",
      "Hexa = 54\n"
     ]
    }
   ],
   "source": [
    "karakter = ['B','a','T']\n",
    "for i in karakter:\n",
    "    \n",
    "    desimal = ord(i)\n",
    "# Desimal\n",
    "    print('Desimal =', desimal)\n",
    "\n",
    "    # Biner\n",
    "    biner = ''\n",
    "    desimal1 = desimal\n",
    "    while desimal1 > 0:\n",
    "        sisa = desimal1 % 2\n",
    "        biner = str(sisa) + biner\n",
    "        desimal1 //= 2\n",
    "    print('Biner =', biner)\n",
    "\n",
    "# Okta\n",
    "    okta = ''\n",
    "    desimal2 = desimal\n",
    "    while desimal2 > 0:\n",
    "        sisa = desimal2 % 8\n",
    "        okta = str(sisa) + okta\n",
    "        desimal2 //= 8\n",
    "    print('Okta =', okta)\n",
    "\n",
    "# Hexa\n",
    "    hexa = ''\n",
    "    desimal3 = desimal\n",
    "    while desimal3 > 0:\n",
    "        sisa = desimal3 % 16\n",
    "        if sisa < 10:\n",
    "            hexa = str(sisa) + hexa\n",
    "        else:\n",
    "            hexa = chr(ord('A') + sisa - 10) + hexa\n",
    "        desimal3 //= 16\n",
    "    print('Hexa =', hexa)\n"
   ]
  },
  {
   "cell_type": "code",
   "execution_count": 2,
   "id": "7f10a3dc",
   "metadata": {},
   "outputs": [
    {
     "name": "stdout",
     "output_type": "stream",
     "text": [
      "12\n",
      "13\n",
      "14\n",
      "15\n",
      "selesai\n",
      "19\n"
     ]
    }
   ],
   "source": [
    "s = 12\n",
    "while s <= 19:\n",
    "    if s <= 15:\n",
    "        print (s)\n",
    "    elif s>18:\n",
    "        print('selesai')\n",
    "        print(s)\n",
    "    s=s+1\n",
    "    \n",
    "#     for i in range (12,16):\n",
    "#         print (i)\n",
    "#     s=s+1\n",
    "#     break\n",
    "# print ('selesai')\n"
   ]
  },
  {
   "cell_type": "code",
   "execution_count": 20,
   "id": "6b710904",
   "metadata": {},
   "outputs": [
    {
     "name": "stdout",
     "output_type": "stream",
     "text": [
      "[12, 13, 14, 15]\n",
      "19\n",
      "selesai\n"
     ]
    }
   ],
   "source": [
    "s=12\n",
    "wadah = []\n",
    "while s<19:\n",
    "    wadah.append(s)\n",
    "    s=s+1\n",
    "i=0\n",
    "# for i in wadah:\n",
    "#     print (wadah[i])\n",
    "print(wadah[:4])\n",
    "print(s)\n",
    "print('selesai')\n",
    "\n"
   ]
  }
 ],
 "metadata": {
  "kernelspec": {
   "display_name": "Python 3 (ipykernel)",
   "language": "python",
   "name": "python3"
  },
  "language_info": {
   "codemirror_mode": {
    "name": "ipython",
    "version": 3
   },
   "file_extension": ".py",
   "mimetype": "text/x-python",
   "name": "python",
   "nbconvert_exporter": "python",
   "pygments_lexer": "ipython3",
   "version": "3.11.5"
  }
 },
 "nbformat": 4,
 "nbformat_minor": 5
}
